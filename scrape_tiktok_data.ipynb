{
 "cells": [
  {
   "cell_type": "code",
   "execution_count": 1,
   "id": "1bf952c8",
   "metadata": {},
   "outputs": [],
   "source": [
    "import requests\n",
    "import re"
   ]
  },
  {
   "cell_type": "code",
   "execution_count": 2,
   "id": "876e3638",
   "metadata": {},
   "outputs": [],
   "source": [
    "def get_tiktok_user_data(user):\n",
    "    url = 'https://www.tiktok.com/@'+user\n",
    "    # add headers to mask identity\n",
    "    headers = {\n",
    "        'user-agent': 'Mozilla/5.0 (Windows NT 10.0; Win64; x64) AppleWebKit/537.36 (KHTML, like Gecko) Chrome/111.0.0.0 Safari/537.36'\n",
    "    }\n",
    "    \n",
    "    response = requests.get(url=url, headers=headers)\n",
    "    followers = re.findall('\"followers-count\">(.*)</strong><span data-e2e=\"followers\"', response.text)[0]\n",
    "    likes =  re.findall('\"likes-count\">(.*)</strong><span data-e2e=\"likes\"', response.text)[0]\n",
    "    \n",
    "    print(f'{user} has {followers} followers and {likes} likes')"
   ]
  },
  {
   "cell_type": "code",
   "execution_count": 3,
   "id": "4fc940e1",
   "metadata": {},
   "outputs": [
    {
     "name": "stdout",
     "output_type": "stream",
     "text": [
      "khaby.lame has 160.5M followers and 2.3B likes\n"
     ]
    }
   ],
   "source": [
    "get_tiktok_user_data(\"khaby.lame\")"
   ]
  }
 ],
 "metadata": {
  "kernelspec": {
   "display_name": "Python 3 (ipykernel)",
   "language": "python",
   "name": "python3"
  },
  "language_info": {
   "codemirror_mode": {
    "name": "ipython",
    "version": 3
   },
   "file_extension": ".py",
   "mimetype": "text/x-python",
   "name": "python",
   "nbconvert_exporter": "python",
   "pygments_lexer": "ipython3",
   "version": "3.9.7"
  }
 },
 "nbformat": 4,
 "nbformat_minor": 5
}
