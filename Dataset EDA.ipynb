{
 "cells": [
  {
   "attachments": {},
   "cell_type": "markdown",
   "id": "105efaf3",
   "metadata": {},
   "source": [
    "### Import Libraries"
   ]
  },
  {
   "cell_type": "code",
   "execution_count": 2,
   "id": "96e8d6c1",
   "metadata": {},
   "outputs": [],
   "source": [
    "import numpy as np\n",
    "import pandas as pd\n",
    "import datetime"
   ]
  },
  {
   "attachments": {},
   "cell_type": "markdown",
   "id": "bf8a25a3",
   "metadata": {},
   "source": [
    "### Load Dataset"
   ]
  },
  {
   "cell_type": "code",
   "execution_count": 2,
   "id": "8028222b",
   "metadata": {},
   "outputs": [
    {
     "name": "stdout",
     "output_type": "stream",
     "text": [
      "0.152769 s\n"
     ]
    }
   ],
   "source": [
    "# %time\n",
    "\n",
    "start_time = datetime.datetime.now()\n",
    "\n",
    "# normal load\n",
    "df = pd.read_csv('Datasets/hmeq.csv')\n",
    "\n",
    "# load in chunks (when dataset is too large)\n",
    "tp = pd.read_csv('Datasets/hmeq.csv',low_memory=False,iterator=True,chunksize=100)\n",
    "df = pd.concat(tp,ignore_index = True)\n",
    "\n",
    "end_time = datetime.datetime.now()\n",
    "\n",
    "time_taken = (end_time - start_time).total_seconds()\n",
    "\n",
    "print(time_taken,\"s\")"
   ]
  },
  {
   "attachments": {},
   "cell_type": "markdown",
   "id": "af7b1a54",
   "metadata": {},
   "source": [
    "### Remove \",\" for Numeric Columns"
   ]
  },
  {
   "cell_type": "code",
   "execution_count": 4,
   "id": "71884254",
   "metadata": {},
   "outputs": [
    {
     "name": "stdout",
     "output_type": "stream",
     "text": [
      "0.001001 s\n"
     ]
    }
   ],
   "source": [
    "def numeric_remove_comma(df):\n",
    "    if df.dtypes == 'int64' or df.dtypes =='float64':\n",
    "        pd.to_numeric(df.replace(',',''))\n",
    "\n",
    "df.apply(numeric_remove_comma)"
   ]
  },
  {
   "attachments": {},
   "cell_type": "markdown",
   "id": "65afa29a",
   "metadata": {},
   "source": [
    "### Columns Info"
   ]
  },
  {
   "cell_type": "code",
   "execution_count": 6,
   "id": "2ba6138d",
   "metadata": {},
   "outputs": [],
   "source": [
    "# Get Column EDA and store in dict\n",
    "dtypes_dict = {}\n",
    "shortest_dict = {}\n",
    "longest_dict = {}\n",
    "isnull_dict = {}\n",
    "unique_dict = {}\n",
    "memory_dict = {}\n",
    "\n",
    "for column in df.columns:\n",
    "    dtypes_dict[column] = df[column].dtype\n",
    "    shortest_dict[column] = df[column].astype(str).str.len().min()\n",
    "    longest_dict[column] = df[column].astype(str).str.len().max()\n",
    "    isnull_dict[column] = df[column].isnull().sum()\n",
    "    unique_dict[column] = df[column].nunique()\n",
    "    memory_dict[column] = df[column].memory_usage()\n",
    "\n",
    "columns_info = ['data_types','shortest_length','longest_length','null_values','unique_values','memory_usage','count','mean','std','min','25%','median','75%','max']\n",
    "\n",
    "df1 = pd.DataFrame(dtypes_dict ,index=[0]).T\n",
    "df2 = pd.DataFrame(shortest_dict ,index=[0]).T\n",
    "df3 = pd.DataFrame(longest_dict,index=[0]).T\n",
    "df4 = pd.DataFrame(isnull_dict,index=[0]).T\n",
    "df5 = pd.DataFrame(unique_dict,index=[0]).T\n",
    "df6 = pd.DataFrame(memory_dict,index=[0]).T\n",
    "\n",
    "desc = df.describe().T\n",
    "\n",
    "# Output to csv\n",
    "pd.concat([df1,df2,df3,df4,df5,df6,desc],axis=1).to_csv('output.csv',header = columns_info)"
   ]
  },
  {
   "attachments": {},
   "cell_type": "markdown",
   "id": "eba72582",
   "metadata": {},
   "source": [
    "### Remove Duplicated Value Columns"
   ]
  },
  {
   "cell_type": "code",
   "execution_count": null,
   "id": "5b4ef0d5",
   "metadata": {},
   "outputs": [],
   "source": [
    "# remove duplicated value columns\n",
    "df = df.loc[:~df.T.duplicated(keep='first')]"
   ]
  },
  {
   "attachments": {},
   "cell_type": "markdown",
   "id": "1565d5e5",
   "metadata": {},
   "source": [
    "### Check One Hot Encoded Columns"
   ]
  },
  {
   "cell_type": "code",
   "execution_count": null,
   "id": "5c4179da",
   "metadata": {},
   "outputs": [],
   "source": [
    "for col in df.columns:\n",
    "    if len(df[col].unique()) ==2 and set(df[col].unique().flatten()) == {0,1}:\n",
    "        print(col)"
   ]
  }
 ],
 "metadata": {
  "kernelspec": {
   "display_name": "Python 3 (ipykernel)",
   "language": "python",
   "name": "python3"
  },
  "language_info": {
   "codemirror_mode": {
    "name": "ipython",
    "version": 3
   },
   "file_extension": ".py",
   "mimetype": "text/x-python",
   "name": "python",
   "nbconvert_exporter": "python",
   "pygments_lexer": "ipython3",
   "version": "3.9.7"
  }
 },
 "nbformat": 4,
 "nbformat_minor": 5
}
